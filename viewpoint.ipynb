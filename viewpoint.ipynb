{
 "cells": [
  {
   "cell_type": "code",
   "execution_count": 1,
   "metadata": {},
   "outputs": [
    {
     "name": "stdout",
     "output_type": "stream",
     "text": [
      "Jupyter environment detected. Enabling Open3D WebVisualizer.\n",
      "[Open3D INFO] WebRTC GUI backend enabled.\n",
      "[Open3D INFO] WebRTCWindowSystem: HTTP handshake server disabled.\n"
     ]
    }
   ],
   "source": [
    "from datagen.data_utils import *\n",
    "import numpy as np\n",
    "import sapien.core as sapien\n",
    "from PIL import Image, ImageColor"
   ]
  },
  {
   "cell_type": "code",
   "execution_count": 3,
   "metadata": {},
   "outputs": [
    {
     "name": "stderr",
     "output_type": "stream",
     "text": [
      "[2023-09-29 10:33:01.352] [SAPIEN] [warning] A second engine will share the same internal structures with the first one. Arguments passed to constructor will be ignored.\n",
      "[2023-09-29 10:33:01.352] [svulkan2] [warning] A second renderer will share the same internal context with the first one. Arguments passed to constructor will be ignored.\n",
      "[2023-09-29 10:33:01.352] [SAPIEN] [warning] Setting renderer more than once should be avoided.\n"
     ]
    }
   ],
   "source": [
    "urdf = 'data_base/laptop/10211/mobility.urdf'\n",
    "\n",
    "camera, asset, scene = scene_setup(urdf_file=urdf)\n",
    "pose = np.array([\n",
    "            [\n",
    "                -0.06419897079467773,\n",
    "                0.7324758172035217,\n",
    "                -0.6777592897415161,\n",
    "                -3.0862629413604736\n",
    "            ],\n",
    "            [\n",
    "                -0.9979371428489685,\n",
    "                -0.047121405601501465,\n",
    "                0.043601423501968384,\n",
    "                0.19854456186294556\n",
    "            ],\n",
    "            [\n",
    "                0.0,\n",
    "                0.6791603565216064,\n",
    "                0.733989953994751,\n",
    "                3.3423168659210205\n",
    "            ],\n",
    "            [\n",
    "                0.0,\n",
    "                0.0,\n",
    "                0.0,\n",
    "                1.0\n",
    "            ]\n",
    "        ])"
   ]
  },
  {
   "cell_type": "code",
   "execution_count": 3,
   "metadata": {},
   "outputs": [
    {
     "data": {
      "text/plain": [
       "(4, 4)"
      ]
     },
     "execution_count": 3,
     "metadata": {},
     "output_type": "execute_result"
    }
   ],
   "source": [
    "pose.shape\n"
   ]
  },
  {
   "cell_type": "code",
   "execution_count": 4,
   "metadata": {},
   "outputs": [],
   "source": [
    "from pathlib import Path as P\n",
    "save_dir = P('./draft/view_test')\n",
    "save_dir.mkdir(exist_ok=True)\n",
    "\n",
    "# render_img_with_pose(pose, save_dir, None, scene, camera, asset)\n",
    "point = random_point_in_sphere(5, theta_range=[1 * math.pi, 1.5*math.pi], phi_range=[0.4*math.pi, 0.5*math.pi])\n",
    "mat44 = calculate_cam_ext(point)\n",
    "camera.set_pose(sapien.Pose.from_transformation_matrix(mat44))\n",
    "\n",
    "scene.step()  # make everything set\n",
    "scene.update_render()\n",
    "camera.take_picture()\n",
    "rgba = camera.get_float_texture('Color')  # [H, W, 4]\n",
    "        \n",
    "rgba_img = (rgba * 255).clip(0, 255).astype(\"uint8\")\n",
    "rgba_pil = Image.fromarray(rgba_img, 'RGBA')\n",
    "rgba_pil.save('./draft/test_view.png')"
   ]
  },
  {
   "cell_type": "code",
   "execution_count": 5,
   "metadata": {},
   "outputs": [],
   "source": [
    "joint_list = asset.get_joints()\n",
    "r_joint = joint_list[-1]\n"
   ]
  },
  {
   "cell_type": "code",
   "execution_count": 6,
   "metadata": {},
   "outputs": [
    {
     "data": {
      "text/plain": [
       "array([0.], dtype=float32)"
      ]
     },
     "execution_count": 6,
     "metadata": {},
     "output_type": "execute_result"
    }
   ],
   "source": [
    "asset.get_qpos()"
   ]
  },
  {
   "cell_type": "code",
   "execution_count": 7,
   "metadata": {},
   "outputs": [],
   "source": [
    "def degrees_to_radians(degrees):\n",
    "    radians = degrees * (math.pi / 180)\n",
    "    return radians\n",
    "\n",
    "asset.set_qpos(degrees_to_radians(15))\n",
    "scene.step()  # make everything set\n",
    "scene.update_render()\n",
    "camera.take_picture()\n",
    "rgba = camera.get_float_texture('Color')  # [H, W, 4]\n",
    "        \n",
    "rgba_img = (rgba * 255).clip(0, 255).astype(\"uint8\")\n",
    "rgba_15_pil = Image.fromarray(rgba_img, 'RGBA')\n",
    "rgba_15_pil.save('./draft/test_view_15.png')"
   ]
  },
  {
   "cell_type": "code",
   "execution_count": 8,
   "metadata": {},
   "outputs": [],
   "source": [
    "# joint_state = r_joint.get_pose_in_parent().to_transformation_matrix()\n",
    "joint_state = asset.get_links()[-1].pose.to_transformation_matrix()"
   ]
  },
  {
   "cell_type": "code",
   "execution_count": 9,
   "metadata": {},
   "outputs": [],
   "source": [
    "def transform_V1_to_V2(joint_state, V1, delta_rotation):\n",
    "    try:\n",
    "        # Extract the rotation matrix R_joint from the joint state\n",
    "        R_joint = joint_state[:3, :3]\n",
    "\n",
    "        u = R_joint[0, 2]\n",
    "        v = R_joint[1, 2]\n",
    "        w = R_joint[2, 2]\n",
    "\n",
    "\n",
    "        # Calculate the rotation matrix R_theta for the delta rotation along the joint axis\n",
    "        cos_theta = np.cos(delta_rotation)\n",
    "        sin_theta = np.sin(delta_rotation)\n",
    "        R_theta = np.array([[cos_theta + u**2 * (1 - cos_theta), u * v * (1 - cos_theta) - w * sin_theta, u * w * (1 - cos_theta) + v * sin_theta],\n",
    "                            [v * u * (1 - cos_theta) + w * sin_theta, cos_theta + v**2 * (1 - cos_theta), v * w * (1 - cos_theta) - u * sin_theta],\n",
    "                            [w * u * (1 - cos_theta) - v * sin_theta, w * v * (1 - cos_theta) + u * sin_theta, cos_theta + w**2 * (1 - cos_theta)]])\n",
    "\n",
    "\n",
    "        # Create 4x4 transformation matrices\n",
    "        T_joint = np.eye(4)\n",
    "        T_joint[:3, :3] = R_joint\n",
    "\n",
    "        T_theta = np.eye(4)\n",
    "        T_theta[:3, :3] = R_theta\n",
    "\n",
    "        # Compute V2 by multiplying the transformation matrices\n",
    "        V2 = np.dot(np.dot(np.dot(T_joint, T_theta), np.linalg.inv(T_joint)), V1)\n",
    "\n",
    "        return V2\n",
    "\n",
    "    except Exception as e:\n",
    "        print(f\"Error calculating V2: {str(e)}\")\n",
    "        return None"
   ]
  },
  {
   "cell_type": "code",
   "execution_count": 10,
   "metadata": {},
   "outputs": [],
   "source": [
    "v2 = transform_V1_to_V2(joint_state, mat44, degrees_to_radians(15))"
   ]
  },
  {
   "cell_type": "code",
   "execution_count": 11,
   "metadata": {},
   "outputs": [],
   "source": [
    "asset.set_qpos(0)\n",
    "camera.set_pose(sapien.Pose.from_transformation_matrix(v2))\n",
    "\n",
    "scene.step()  # make everything set\n",
    "scene.update_render()\n",
    "camera.take_picture()\n",
    "rgba = camera.get_float_texture('Color')  # [H, W, 4]\n",
    "        \n",
    "rgba_img = (rgba * 255).clip(0, 255).astype(\"uint8\")\n",
    "rgba_v2_pil = Image.fromarray(rgba_img, 'RGBA')\n",
    "rgba_v2_pil.save('./draft/test_view_15_v2.png')"
   ]
  },
  {
   "cell_type": "code",
   "execution_count": 12,
   "metadata": {},
   "outputs": [
    {
     "data": {
      "text/plain": [
       "array([[-1.1920929e-07,  2.9802322e-08, -1.0000000e+00,  2.4714707e-01],\n",
       "       [-1.0000000e+00,  0.0000000e+00,  1.1920929e-07,  0.0000000e+00],\n",
       "       [-2.9802322e-08,  1.0000000e+00,  5.9604645e-08, -7.7060461e-03],\n",
       "       [ 0.0000000e+00,  0.0000000e+00,  0.0000000e+00,  1.0000000e+00]],\n",
       "      dtype=float32)"
      ]
     },
     "execution_count": 12,
     "metadata": {},
     "output_type": "execute_result"
    }
   ],
   "source": [
    "asset.get_links()[-1].pose.to_transformation_matrix()"
   ]
  },
  {
   "cell_type": "code",
   "execution_count": 13,
   "metadata": {},
   "outputs": [],
   "source": [
    "link = asset.get_links()[-1]"
   ]
  },
  {
   "cell_type": "code",
   "execution_count": 14,
   "metadata": {},
   "outputs": [],
   "source": [
    "from utils.visualization import overlay_images\n",
    "overlayed = overlay_images(rgba_15_pil, rgba_v2_pil, 0.5)\n",
    "overlayed.save('./draft/overlayed_view.png')"
   ]
  },
  {
   "cell_type": "code",
   "execution_count": 15,
   "metadata": {},
   "outputs": [],
   "source": [
    "overlayed_base = overlay_images(rgba_pil, rgba_15_pil, 0.5)\n",
    "overlayed_base.save('./draft/overlayed_art.png')"
   ]
  },
  {
   "cell_type": "code",
   "execution_count": 16,
   "metadata": {},
   "outputs": [],
   "source": [
    "links = asset.get_links()"
   ]
  },
  {
   "cell_type": "code",
   "execution_count": 17,
   "metadata": {},
   "outputs": [
    {
     "data": {
      "text/plain": [
       "[Actor(name=\"base\", id=\"1\"),\n",
       " Actor(name=\"link_0\", id=\"2\"),\n",
       " Actor(name=\"link_1\", id=\"3\")]"
      ]
     },
     "execution_count": 17,
     "metadata": {},
     "output_type": "execute_result"
    }
   ],
   "source": [
    "links"
   ]
  },
  {
   "cell_type": "code",
   "execution_count": 23,
   "metadata": {},
   "outputs": [],
   "source": [
    "import json\n",
    "\n",
    "def load_json_to_dict(fname):\n",
    "    try:\n",
    "        with open(fname, 'r') as file:\n",
    "            data = json.load(file)\n",
    "        return data\n",
    "    except Exception as e:\n",
    "        print(f\"Error loading JSON from {fname}: {str(e)}\")\n",
    "        return None"
   ]
  },
  {
   "cell_type": "code",
   "execution_count": 30,
   "metadata": {},
   "outputs": [],
   "source": [
    "json_fname = './data_base/laptop/10211/mobility_v2.json'\n",
    "meta = load_json_to_dict(json_fname)"
   ]
  },
  {
   "cell_type": "code",
   "execution_count": 36,
   "metadata": {},
   "outputs": [
    {
     "data": {
      "text/plain": [
       "[Actor(name=\"base\", id=\"1\"),\n",
       " Actor(name=\"link_0\", id=\"2\"),\n",
       " Actor(name=\"link_1\", id=\"3\")]"
      ]
     },
     "execution_count": 36,
     "metadata": {},
     "output_type": "execute_result"
    }
   ],
   "source": [
    "asset.get_links()"
   ]
  },
  {
   "cell_type": "code",
   "execution_count": 37,
   "metadata": {},
   "outputs": [
    {
     "data": {
      "text/plain": [
       "[{'id': 0,\n",
       "  'parent': -1,\n",
       "  'joint': 'junk',\n",
       "  'name': 'other_leaf',\n",
       "  'parts': [{'id': 12, 'name': 'other_leaf', 'children': []}],\n",
       "  'jointData': {}},\n",
       " {'id': 1,\n",
       "  'parent': -1,\n",
       "  'joint': 'free',\n",
       "  'name': 'base_side',\n",
       "  'parts': [{'id': 7, 'name': 'keyboard', 'children': []},\n",
       "   {'id': 17, 'name': 'touchpad_surface', 'children': []},\n",
       "   {'id': 9, 'name': 'base_frame', 'children': []}],\n",
       "  'jointData': {}},\n",
       " {'id': 2,\n",
       "  'parent': -1,\n",
       "  'joint': 'junk',\n",
       "  'name': 'other',\n",
       "  'parts': [{'id': 5, 'name': 'other_leaf', 'children': []},\n",
       "   {'id': 14, 'name': 'other_leaf', 'children': []}],\n",
       "  'jointData': {}},\n",
       " {'id': 3,\n",
       "  'parent': 1,\n",
       "  'joint': 'hinge',\n",
       "  'name': 'shaft',\n",
       "  'parts': [{'id': 6, 'name': 'shaft', 'children': []},\n",
       "   {'id': 15, 'name': 'screen', 'children': []},\n",
       "   {'id': 16, 'name': 'screen_frame', 'children': []}],\n",
       "  'jointData': {'axis': {'origin': [0,\n",
       "     -0.007706040424053753,\n",
       "     -0.24714714808389615],\n",
       "    'direction': [1, 0, 0]},\n",
       "   'limit': {'a': 105.11999999999999, 'b': -27, 'noLimit': False}}}]"
      ]
     },
     "execution_count": 37,
     "metadata": {},
     "output_type": "execute_result"
    }
   ],
   "source": [
    "meta"
   ]
  },
  {
   "cell_type": "code",
   "execution_count": 40,
   "metadata": {},
   "outputs": [
    {
     "name": "stdout",
     "output_type": "stream",
     "text": [
      "kinematic_link\n",
      "kinematic_link\n",
      "kinematic_link\n"
     ]
    }
   ],
   "source": [
    "link.type\n",
    "\n",
    "for link in links:\n",
    "    print(link.type)"
   ]
  },
  {
   "cell_type": "code",
   "execution_count": 43,
   "metadata": {},
   "outputs": [],
   "source": [
    "test = asset.get_joints()[-1]"
   ]
  },
  {
   "cell_type": "code",
   "execution_count": 44,
   "metadata": {},
   "outputs": [
    {
     "data": {
      "text/plain": [
       "['__init__',\n",
       " '__doc__',\n",
       " '__module__',\n",
       " 'name',\n",
       " 'type',\n",
       " '__repr__ ',\n",
       " 'get_name',\n",
       " 'set_name',\n",
       " 'get_parent_link',\n",
       " 'get_child_link',\n",
       " 'get_dof',\n",
       " 'get_pose_in_parent',\n",
       " 'get_pose_in_child',\n",
       " 'get_limits',\n",
       " 'set_limits',\n",
       " 'articulation',\n",
       " '__new__',\n",
       " '__repr__',\n",
       " '__hash__',\n",
       " '__str__',\n",
       " '__getattribute__',\n",
       " '__setattr__',\n",
       " '__delattr__',\n",
       " '__lt__',\n",
       " '__le__',\n",
       " '__eq__',\n",
       " '__ne__',\n",
       " '__gt__',\n",
       " '__ge__',\n",
       " '__reduce_ex__',\n",
       " '__reduce__',\n",
       " '__subclasshook__',\n",
       " '__init_subclass__',\n",
       " '__format__',\n",
       " '__sizeof__',\n",
       " '__dir__',\n",
       " '__class__']"
      ]
     },
     "execution_count": 44,
     "metadata": {},
     "output_type": "execute_result"
    }
   ],
   "source": [
    "test.__dir__()"
   ]
  },
  {
   "cell_type": "code",
   "execution_count": 45,
   "metadata": {},
   "outputs": [
    {
     "data": {
      "text/plain": [
       "Actor(name=\"link_0\", id=\"2\")"
      ]
     },
     "execution_count": 45,
     "metadata": {},
     "output_type": "execute_result"
    }
   ],
   "source": [
    "test.get_parent_link()"
   ]
  },
  {
   "cell_type": "code",
   "execution_count": 46,
   "metadata": {},
   "outputs": [
    {
     "data": {
      "text/plain": [
       "Actor(name=\"link_1\", id=\"3\")"
      ]
     },
     "execution_count": 46,
     "metadata": {},
     "output_type": "execute_result"
    }
   ],
   "source": [
    "test.get_child_link()"
   ]
  },
  {
   "cell_type": "code",
   "execution_count": 49,
   "metadata": {},
   "outputs": [
    {
     "data": {
      "text/plain": [
       "Pose([0.247147, 0, -0.00770605], [0.5, 0.5, -0.5, -0.5])"
      ]
     },
     "execution_count": 49,
     "metadata": {},
     "output_type": "execute_result"
    }
   ],
   "source": [
    "links[-1].get_pose()"
   ]
  },
  {
   "cell_type": "code",
   "execution_count": null,
   "metadata": {},
   "outputs": [],
   "source": []
  }
 ],
 "metadata": {
  "kernelspec": {
   "display_name": "ao",
   "language": "python",
   "name": "python3"
  },
  "language_info": {
   "codemirror_mode": {
    "name": "ipython",
    "version": 3
   },
   "file_extension": ".py",
   "mimetype": "text/x-python",
   "name": "python",
   "nbconvert_exporter": "python",
   "pygments_lexer": "ipython3",
   "version": "3.8.17"
  },
  "orig_nbformat": 4
 },
 "nbformat": 4,
 "nbformat_minor": 2
}
