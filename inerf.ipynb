{
 "cells": [
  {
   "cell_type": "markdown",
   "metadata": {},
   "source": [
    "# iNERF test"
   ]
  },
  {
   "cell_type": "code",
   "execution_count": 1,
   "metadata": {},
   "outputs": [
    {
     "name": "stderr",
     "output_type": "stream",
     "text": [
      "/home/dj/anaconda3/envs/ao/lib/python3.8/site-packages/torchmetrics/utilities/imports.py:24: DeprecationWarning: distutils Version classes are deprecated. Use packaging.version instead.\n",
      "  _PYTHON_LOWER_3_8 = LooseVersion(_PYTHON_VERSION) < LooseVersion(\"3.8\")\n",
      "/home/dj/anaconda3/envs/ao/lib/python3.8/site-packages/torchmetrics/utilities/imports.py:24: DeprecationWarning: distutils Version classes are deprecated. Use packaging.version instead.\n",
      "  _PYTHON_LOWER_3_8 = LooseVersion(_PYTHON_VERSION) < LooseVersion(\"3.8\")\n",
      "/home/dj/anaconda3/envs/ao/lib/python3.8/site-packages/torch/utils/tensorboard/__init__.py:4: DeprecationWarning: distutils Version classes are deprecated. Use packaging.version instead.\n",
      "  if not hasattr(tensorboard, \"__version__\") or LooseVersion(\n",
      "/home/dj/anaconda3/envs/ao/lib/python3.8/site-packages/torch/utils/tensorboard/__init__.py:6: DeprecationWarning: distutils Version classes are deprecated. Use packaging.version instead.\n",
      "  ) < LooseVersion(\"1.15\"):\n",
      "/home/dj/anaconda3/envs/ao/lib/python3.8/site-packages/pytorch_lightning/__init__.py:28: DeprecationWarning: Deprecated call to `pkg_resources.declare_namespace('pytorch_lightning')`.\n",
      "Implementing implicit namespace packages (as specified in PEP 420) is preferred to `pkg_resources.declare_namespace`. See https://setuptools.pypa.io/en/latest/references/keywords.html#keyword-namespace-packages\n",
      "  __import__(\"pkg_resources\").declare_namespace(__name__)\n"
     ]
    }
   ],
   "source": [
    "import torch\n",
    "import torch.nn as nn\n",
    "from models.vanilla_nerf.model import NeRF\n",
    "from PIL import Image\n",
    "from pathlib import  Path as P\n",
    "import json\n",
    "import torchvision.transforms as transforms\n",
    "import numpy as np\n",
    "from datasets.ray_utils import get_ray_directions\n",
    "import matplotlib.pyplot as plt\n",
    "from models.vanilla_nerf.model_nerfseg import  get_rays_torch\n",
    "from models.vanilla_nerf.helper import img2mse\n",
    "# from pytorch3d.transforms import quaternion_to_matrix\n",
    "import torch.nn.functional as F"
   ]
  },
  {
   "cell_type": "markdown",
   "metadata": {},
   "source": [
    "## Helper functions"
   ]
  },
  {
   "cell_type": "code",
   "execution_count": 2,
   "metadata": {},
   "outputs": [],
   "source": [
    "def load_json(json_fname):\n",
    "    with open(json_fname, 'r') as json_file:\n",
    "        data_dict = json.load(json_file)\n",
    "    return data_dict\n",
    "\n",
    "def remove_model_prefix(input_dict):\n",
    "    \"\"\"\n",
    "    Remove the \"model.\" prefix from all key names in a dictionary.\n",
    "\n",
    "    Args:\n",
    "        input_dict (dict): The input dictionary.\n",
    "\n",
    "    Returns:\n",
    "        dict: A new dictionary with the \"model.\" prefix removed from key names.\n",
    "    \"\"\"\n",
    "    output_dict = {}\n",
    "    for key, value in input_dict.items():\n",
    "        # Check if the key starts with \"model.\"\n",
    "        if key.startswith(\"model.\"):\n",
    "            # Remove the \"model.\" prefix and add to the new dictionary\n",
    "            new_key = key[len(\"model.\"):]\n",
    "            output_dict[new_key] = value\n",
    "        else:\n",
    "            # If the key doesn't start with \"model.\", add it as is\n",
    "            output_dict[key] = value\n",
    "    return output_dict\n",
    "\n",
    "def load_model_with_check(model, state_dict_dict):\n",
    "    \"\"\"\n",
    "    Load a PyTorch model's state_dict from a dictionary and report missing\n",
    "    and unexpected keys.\n",
    "\n",
    "    Args:\n",
    "        model (torch.nn.Module): The model to which the state_dict should be loaded.\n",
    "        state_dict_dict (dict): The state_dict dictionary.\n",
    "\n",
    "    Returns:\n",
    "        model (torch.nn.Module): The model with the loaded state_dict.\n",
    "        missing_keys (list): List of keys that were in the state_dict but not in the model.\n",
    "        unexpected_keys (list): List of keys that were in the model but not in the state_dict.\n",
    "    \"\"\"\n",
    "    # Load the state_dict\n",
    "    state_dict = state_dict_dict\n",
    "\n",
    "    # Load the model's state_dict and track missing and unexpected keys\n",
    "    missing_keys, unexpected_keys = model.load_state_dict(state_dict, strict=False)\n",
    "\n",
    "    # Report missing and unexpected keys\n",
    "    if missing_keys:\n",
    "        print(\"Missing keys in the model's state_dict:\")\n",
    "        for key in missing_keys:\n",
    "            print(key)\n",
    "    if unexpected_keys:\n",
    "        print(\"Unexpected keys found in the model's state_dict:\")\n",
    "        for key in unexpected_keys:\n",
    "            print(key)\n",
    "\n",
    "    return model, missing_keys, unexpected_keys\n",
    "\n",
    "def select_fg(value, seg):\n",
    "    # Squeeze the seg tensor to remove the singleton dimension\n",
    "    seg = seg.squeeze(dim=1)\n",
    "    \n",
    "    # Create a mask for the selected segments\n",
    "    mask = (seg > 0)\n",
    "\n",
    "    # Apply the mask to the value tensor to select the desired elements\n",
    "    selected_value = value[mask]\n",
    "\n",
    "    return selected_value\n",
    "\n",
    "def select_element(value, seg, part_num=0):\n",
    "    # Squeeze the seg tensor to remove the singleton dimension\n",
    "    seg = seg.squeeze(dim=1)\n",
    "    \n",
    "    # Create a mask for the selected segments\n",
    "    mask = (seg == part_num)\n",
    "\n",
    "    # Apply the mask to the value tensor to select the desired elements\n",
    "    selected_value = value[mask]\n",
    "\n",
    "    return selected_value\n",
    "\n",
    "def select_element_inv(value, seg, part_num=0):\n",
    "    '''\n",
    "    select the element except the part_num\n",
    "    '''\n",
    "    # Squeeze the seg tensor to remove the singleton dimension\n",
    "    seg = seg.squeeze(dim=1)\n",
    "    \n",
    "    # Create a mask for the selected segments\n",
    "    mask = ~(seg == part_num)\n",
    "\n",
    "    # Apply the mask to the value tensor to select the desired elements\n",
    "    selected_value = value[mask]\n",
    "\n",
    "    return selected_value\n",
    "\n",
    "def overlay_images(image_A, image_B, transparency):\n",
    "    \"\"\"\n",
    "    Overlay two images with adjustable transparency.\n",
    "\n",
    "    Args:\n",
    "    - image_A (PIL Image): The base image.\n",
    "    - image_B (PIL Image): The overlay image.\n",
    "    - transparency (float): The transparency level (0.0 to 1.0, where 0.0 is fully transparent, and 1.0 is fully opaque).\n",
    "\n",
    "    Returns:\n",
    "    - PIL Image: The overlayed image.\n",
    "    \"\"\"\n",
    "    # Ensure that both images have the same size\n",
    "    if image_A.size != image_B.size:\n",
    "        raise ValueError(\"Both input images must have the same size\")\n",
    "\n",
    "    # Convert the transparency value to an alpha value (0 to 255)\n",
    "    alpha = int(255 * (1 - transparency))\n",
    "\n",
    "    # Create copies of the images to avoid modifying the originals\n",
    "    base_image = image_A.copy()\n",
    "    overlay_image = image_B.copy()\n",
    "\n",
    "    # Apply the transparency to the overlay image\n",
    "    overlay_image.putalpha(alpha)\n",
    "\n",
    "    # Paste the overlay image onto the base image\n",
    "    base_image.paste(overlay_image, (0, 0), overlay_image)\n",
    "\n",
    "    return base_image\n",
    "\n",
    "def render_img(model, directions, c2w, chunk_size=4096):\n",
    "    randomized = False\n",
    "    white_bkgd = True\n",
    "    far=6\n",
    "    near=2\n",
    "    chunk_size = 1024 * 3\n",
    "    # get rays_o, rays_d, view_dir \n",
    "    rays_o, viewdirs, rays_d = get_rays_torch(directions, c2w[:3, :], output_view_dirs=True)\n",
    "    chunk_len = rays_o.shape[0] // chunk_size + 1\n",
    "    chunk_idxs = torch.arange(0, chunk_len) * chunk_size\n",
    "    chunk_idxs[-1] = rays_o.shape[0]\n",
    "    ret_list = []\n",
    "    with torch.no_grad():\n",
    "        for i in range(len(chunk_idxs) - 1):\n",
    "            mini_batch = {}\n",
    "            begin, end = chunk_idxs[i], chunk_idxs[i+1]\n",
    "            mini_batch['rays_o'] = rays_o[begin: end]\n",
    "            mini_batch['rays_d'] = rays_d[begin: end]\n",
    "            mini_batch['viewdirs'] = viewdirs[begin: end]\n",
    "            mini_ret = model.forward(mini_batch, randomized, white_bkgd, near, far)\n",
    "\n",
    "            ret_list += [mini_ret[1][0].detach().cpu()]\n",
    "    ret_rgb = torch.cat(ret_list, dim=0)\n",
    "    return ret_rgb\n",
    "\n",
    "def save_images_as_gif(imgs, interval, save_path):\n",
    "    \"\"\"\n",
    "    Save a list of numpy arrays as a GIF file.\n",
    "\n",
    "    Args:\n",
    "    - imgs (list of numpy arrays): List of images to be saved as frames in the GIF.\n",
    "    - interval (int): Time interval between frames in milliseconds.\n",
    "    - save_path (str): Filepath where the GIF should be saved.\n",
    "\n",
    "    Returns:\n",
    "    - None\n",
    "    \"\"\"\n",
    "    # Ensure the save_path ends with '.gif'\n",
    "    if not save_path.endswith('.gif'):\n",
    "        save_path += '.gif'\n",
    "\n",
    "    # Convert numpy arrays to PIL images\n",
    "    pil_imgs = [Image.fromarray(np.uint8(img*255)) for img in imgs]\n",
    "\n",
    "    # Save the images as a GIF\n",
    "    pil_imgs[0].save(save_path, save_all=True, append_images=pil_imgs[1:], duration=interval, loop=0)\n",
    "    return pil_imgs\n",
    "\n",
    "\n",
    "def R_from_quaternions(quaternions: torch.tensor):\n",
    "    quaternions = F.normalize(quaternions, p=2., dim=0)\n",
    "\n",
    "    r, i, j, k = torch.unbind(quaternions, -1)\n",
    "    two_s = 2.0 / (quaternions * quaternions).sum(-1)\n",
    "\n",
    "    o = torch.stack(\n",
    "        (\n",
    "            1 - two_s * (j * j + k * k),\n",
    "            two_s * (i * j - k * r),\n",
    "            two_s * (i * k + j * r),\n",
    "            two_s * (i * j + k * r),\n",
    "            1 - two_s * (i * i + k * k),\n",
    "            two_s * (j * k - i * r),\n",
    "            two_s * (i * k - j * r),\n",
    "            two_s * (j * k + i * r),\n",
    "            1 - two_s * (i * i + j * j),\n",
    "        ),\n",
    "        -1,\n",
    "    )\n",
    "    return o.reshape(quaternions.shape[:-1] + (3, 3)).to(quaternions)"
   ]
  },
  {
   "cell_type": "markdown",
   "metadata": {},
   "source": [
    "## Load data for optimization"
   ]
  },
  {
   "cell_type": "code",
   "execution_count": 3,
   "metadata": {},
   "outputs": [],
   "source": [
    "root_path = P(\"./data/laptop_art_same_pose/train/idx_5/\")\n",
    "# root_path = P(\"./data/laptop_10211/test/\")\n",
    "device = 'cuda'\n",
    "transform_meta = load_json(str(root_path / 'transforms.json'))\n",
    "frame_id = 'r_6'\n",
    "# pose_np = np.array(transform_meta['frames']['r_3'])\n",
    "w, h = 640, 480\n",
    "\n",
    "def fetch_img(root_path, transform_meta, w=640, h=480, device='cuda', if_fix=True):\n",
    "    if if_fix:\n",
    "        idx = 5\n",
    "    else:\n",
    "        idx = np.random.randint(0, 9)\n",
    "    frame_id = 'r_' + str(idx)\n",
    "    pose_np = np.array(transform_meta['frame'][frame_id])\n",
    "\n",
    "    rgb_pil = Image.open(str(root_path/'rgb'/(frame_id + '.png')))\n",
    "    rgb = transforms.ToTensor()(rgb_pil).to(device)\n",
    "    rgb = rgb.view(4, -1).permute(1, 0) # (H*W, 4) RGBA\n",
    "    rgb = rgb[:, :3]*rgb[:, -1:] + (1-rgb[:, -1:]) # blend A to RGB\n",
    "\n",
    "    seg_pil = Image.open(str(root_path/'seg'/(frame_id + '.png')))\n",
    "    pose = torch.Tensor(pose_np).to(device)\n",
    "    seg_np = np.array(seg_pil)\n",
    "    seg = torch.Tensor(seg_np).to(device).view([1, -1]).permute(1, 0)\n",
    "    seg = seg.type(torch.LongTensor)\n",
    "    seg = seg - 1 # starts with 2\n",
    "    seg[seg<0] = 0\n",
    "    focal = transform_meta['focal']\n",
    "    directions = get_ray_directions(h, w, focal).view([-1, 3])\n",
    "    ret_dict = {\n",
    "        'rgb': rgb,\n",
    "        'seg': seg,\n",
    "        'directions': directions,\n",
    "        'pose': pose\n",
    "    }\n",
    "    return ret_dict"
   ]
  },
  {
   "cell_type": "markdown",
   "metadata": {},
   "source": [
    "## NeRF model setup"
   ]
  },
  {
   "cell_type": "code",
   "execution_count": 4,
   "metadata": {},
   "outputs": [],
   "source": [
    "# load ckpt state_dict\n",
    "ckpt_file = \"results/laptop/nerf_laptop/last.ckpt\"\n",
    "ckpt_dict_model = torch.load(ckpt_file)['state_dict']\n",
    "ckpt_dict = remove_model_prefix(ckpt_dict_model)\n",
    "# initialize model and load pre-trained weights\n",
    "model = NeRF()\n",
    "model, _, _ = load_model_with_check(model, ckpt_dict)\n",
    "model = model.to(device)"
   ]
  },
  {
   "cell_type": "markdown",
   "metadata": {},
   "source": [
    "## Add view transform variable"
   ]
  },
  {
   "cell_type": "code",
   "execution_count": 5,
   "metadata": {},
   "outputs": [],
   "source": [
    "from utils.rotation import *\n",
    "from utils.viewpoint import *\n",
    "class ViewTransform(nn.Module):\n",
    "    def __init__(self, mode='Q'):\n",
    "        super().__init__()\n",
    "        if mode == 'Q':\n",
    "            self.initialize_param = torch.Tensor([\n",
    "                1, 0, 0, 0\n",
    "            ]) # [Q, T]\n",
    "        else:\n",
    "            self.initialize_param = torch.Tensor([\n",
    "                [1, 0, 0, 0], \n",
    "                [0, 1, 0, 0],\n",
    "                [0, 0, 1, 0]\n",
    "            ]).view([-1])\n",
    "        self.mode = mode\n",
    "        self.weight = nn.Parameter(self.initialize_param, requires_grad = True)\n",
    "\n",
    "    def forward(self, input):\n",
    "        \"\"\"\n",
    "        input: 4x4 c2w matrix\n",
    "        \"\"\"\n",
    "        constant = torch.Tensor([\n",
    "            [0, 0, 0, 1]\n",
    "        ]).to(dtype=self.weight.dtype, device=self.weight.device)\n",
    "        if self.mode == 'Q':\n",
    "            Q = self.weight[:4]\n",
    "            # print(Q)\n",
    "            T = torch.zeros([3,1]).to(self.weight)\n",
    "            norm_Q = Q / torch.linalg.norm(Q.clone(), ord=2)\n",
    "            rot = R_from_quaternions(norm_Q)\n",
    "            m34 = torch.cat((rot, T), dim=1)\n",
    "            weight = torch.cat((m34, constant), dim=0)\n",
    "        else:\n",
    "            weight = torch.cat((self.weight.view([3, 4]), constant), dim=0)\n",
    "            # print(weight)\n",
    "        new_view_point = torch.matmul(input, weight)\n",
    "        return new_view_point\n",
    "    \n",
    "    def reset(self):\n",
    "        initialize_param = torch.Tensor([\n",
    "            [1, 0, 0, 0], \n",
    "            [0, 1, 0, 0],\n",
    "            [0, 0, 1, 0]\n",
    "        ]).view([-1])\n",
    "        device = self.weight.device\n",
    "        self.weight = nn.Parameter(initialize_param, requires_grad = True).to(device)\n",
    "\n",
    "\n",
    "class ArticulationEstimation(nn.Module):\n",
    "    '''\n",
    "    Current implemetation for revolute only\n",
    "    '''\n",
    "    def __init__(self, mode='qua') -> None:\n",
    "        super().__init__()\n",
    "        if mode == 'qua':\n",
    "            pass\n",
    "        elif mode == 'rad': #radian\n",
    "            pass\n",
    "        elif mode == 'deg': # degree\n",
    "            pass\n",
    "        else:\n",
    "            raise RuntimeError('mode == %s for ArticulationEstimation is not defined' % mode)\n",
    "        init_Q = torch.Tensor([1, 0, 0, 0])\n",
    "        axis_origin = torch.Tensor([ 0.24714715,  0.        , -0.00770604])\n",
    "        # axis angle can be obtained from quaternion\n",
    "        # axis_direction = torch.Tensor([0, 0, 0])\n",
    "\n",
    "        self.Q = nn.Parameter(init_Q, requires_grad = True)\n",
    "        self.axis_origin = nn.Parameter(axis_origin, requires_grad = False)\n",
    "        # self.axis_direction = nn.Parameter(axis_direction, requires_grad = True)\n",
    "\n",
    "\n",
    "    def forward(self, c2w) -> torch.Tensor():\n",
    "        '''\n",
    "        input: c2w\n",
    "        '''\n",
    "        E1 = view2pose_torch(c2w)\n",
    "        translation_matrix = torch.eye(4).to(c2w)\n",
    "        translation_matrix[:3, 3] = self.axis_origin.view([3])\n",
    "        rotation_matrix = torch.eye(4).to(c2w)\n",
    "        R = R_from_quaternions(self.Q)\n",
    "        rotation_matrix[:3, :3] = R\n",
    "        E2 = change_apply_change_basis_torch(E1, rotation_matrix, translation_matrix)\n",
    "        view = pose2view_torch(E2)\n",
    "        return view\n",
    "        \n",
    "\n",
    "view_deform = ViewTransform().to(device)\n",
    "art_est = ArticulationEstimation().to(device)"
   ]
  },
  {
   "cell_type": "markdown",
   "metadata": {},
   "source": [
    "## configure optimizer"
   ]
  },
  {
   "cell_type": "code",
   "execution_count": 6,
   "metadata": {},
   "outputs": [],
   "source": [
    "# optimizer = torch.optim.Adam(view_deform.parameters(), lr=0.005, weight_decay=1e-4)\n",
    "optimizer = torch.optim.Adam(art_est.parameters(), lr=0.005, weight_decay=1e-4)"
   ]
  },
  {
   "cell_type": "markdown",
   "metadata": {},
   "source": [
    "## Forward function"
   ]
  },
  {
   "cell_type": "code",
   "execution_count": 7,
   "metadata": {},
   "outputs": [
    {
     "name": "stderr",
     "output_type": "stream",
     "text": [
      "/home/dj/anaconda3/envs/ao/lib/python3.8/site-packages/torch/functional.py:504: UserWarning: torch.meshgrid: in an upcoming release, it will be required to pass the indexing argument. (Triggered internally at ../aten/src/ATen/native/TensorShape.cpp:3483.)\n",
      "  return _VF.meshgrid(tensors, **kwargs)  # type: ignore[attr-defined]\n"
     ]
    }
   ],
   "source": [
    "data_dict = fetch_img(root_path, transform_meta)\n",
    "\n",
    "directions = data_dict['directions']\n",
    "rgb = data_dict['rgb']\n",
    "seg = data_dict['seg']\n",
    "pose = data_dict['pose']\n",
    "\n",
    "directions = directions.to(device)\n",
    "part_num = 2\n",
    "\n",
    "# selected_dirs = select_element_inv(directions, seg, part_num=part_num).to(device)\n",
    "# selected_rgbs = select_element_inv(rgb, seg, part_num=part_num).to(device)\n",
    "\n",
    "# selected_dirs = select_element(directions, seg, part_num=part_num).to(device)\n",
    "# selected_rgbs = select_element(rgb, seg, part_num=part_num).to(device)\n",
    "\n",
    "# gather directions and rgbs based on part label from seg (select value where seg == part_num)\n",
    "# help me write the function select_element(value, seg, part_num=0), value in shape [N, k], seg in shape [N, 1], return [n, k]\n",
    "\n",
    "# selected_dirs = select_fg(directions, seg).to(device)\n",
    "# selected_rgbs = select_fg(rgb, seg).to(device)\n",
    "\n",
    "# use mini batches\n"
   ]
  },
  {
   "cell_type": "markdown",
   "metadata": {},
   "source": [
    "## Iternation"
   ]
  },
  {
   "cell_type": "code",
   "execution_count": 8,
   "metadata": {},
   "outputs": [
    {
     "name": "stdout",
     "output_type": "stream",
     "text": [
      "loss at step 0: 0.1407\n",
      "loss at step 10: 0.0998\n",
      "loss at step 20: 0.1340\n",
      "loss at step 30: 0.1067\n",
      "loss at step 40: 0.1063\n",
      "loss at step 50: 0.0820\n",
      "loss at step 60: 0.0719\n",
      "loss at step 70: 0.0653\n",
      "loss at step 80: 0.0661\n",
      "loss at step 90: 0.0645\n"
     ]
    }
   ],
   "source": [
    "from tqdm import tqdm\n",
    "optimize_step = 100\n",
    "result = []\n",
    "\n",
    "# view_deform.reset()\n",
    "# loop over the following steps until converge or optimize for a certain number of step\n",
    "for step in range(optimize_step):\n",
    "\n",
    "    optimizer.zero_grad()\n",
    "\n",
    "    # load multi-view images for optimization\n",
    "    data_dict = fetch_img(root_path, transform_meta)\n",
    "\n",
    "    directions = data_dict['directions']\n",
    "    rgb = data_dict['rgb']\n",
    "    seg = data_dict['seg']\n",
    "    pose = data_dict['pose']\n",
    "\n",
    "    directions = directions.to(device)\n",
    "    part_num = 2\n",
    "    \n",
    "    selected_dirs = select_element(directions, seg, part_num=part_num).to(device)\n",
    "    selected_rgbs = select_element(rgb, seg, part_num=part_num).to(device)\n",
    "\n",
    "    random_indx = torch.randint(0, selected_dirs.shape[0], [4096])\n",
    "    random_dirs = selected_dirs[random_indx]\n",
    "    random_rgbs = selected_rgbs[random_indx]\n",
    "\n",
    "    # random_indx = torch.randint(0, directions.shape[0], [4096])\n",
    "    # random_dirs = directions[random_indx]\n",
    "    # random_rgbs = rgb[random_indx]\n",
    "\n",
    "    # go through view_deform module to get new view point matrix\n",
    "    # new_pose = view_deform(pose)\n",
    "    new_pose = art_est(pose)\n",
    "    # generate rays with new_view_point and selected directions\n",
    "    rays_o, viewdirs, rays_d = get_rays_torch(random_dirs, new_pose[:3, :], output_view_dirs=True)\n",
    "    # gather input_dict for NeRF\n",
    "    input_dict = {\n",
    "        'rays_o': rays_o,\n",
    "        'rays_d': rays_d,\n",
    "        'viewdirs': viewdirs\n",
    "    }\n",
    "    # gather rendered resutls from NeRF coarse and fine\n",
    "    rendered_results = model(input_dict, False, True, 2, 6)\n",
    "    coarse_rgb = rendered_results[0][0]\n",
    "    fine_rgb = rendered_results[1][0]\n",
    "    # calculate and print loss\n",
    "    loss0 = img2mse(coarse_rgb, random_rgbs)\n",
    "    loss1 = img2mse(fine_rgb, random_rgbs)\n",
    "    loss = loss0 + loss1\n",
    "\n",
    "    # regression loss\n",
    "    \n",
    "\n",
    "    # update variable\n",
    "    loss.backward()\n",
    "    optimizer.step()\n",
    "    if step % 10 == 0:\n",
    "        print('loss at step %d: %.4f' % (step, loss.item()))\n",
    "        result += [new_pose]\n",
    "    pass\n",
    "torch.cuda.empty_cache()"
   ]
  },
  {
   "cell_type": "code",
   "execution_count": 9,
   "metadata": {},
   "outputs": [
    {
     "data": {
      "text/plain": [
       "<matplotlib.image.AxesImage at 0x7fac46ae4e80>"
      ]
     },
     "execution_count": 9,
     "metadata": {},
     "output_type": "execute_result"
    },
    {
     "data": {
      "image/png": "[encoded data removed]",
      "text/plain": [
       "<Figure size 640x480 with 1 Axes>"
      ]
     },
     "metadata": {},
     "output_type": "display_data"
    }
   ],
   "source": [
    "target_img = rgb.view([h, w, 3]).cpu().numpy()\n",
    "plt.imshow(target_img)"
   ]
  },
  {
   "cell_type": "code",
   "execution_count": 10,
   "metadata": {},
   "outputs": [
    {
     "name": "stderr",
     "output_type": "stream",
     "text": [
      "100%|██████████| 10/10 [01:12<00:00,  7.23s/it]\n"
     ]
    }
   ],
   "source": [
    "result_img = []\n",
    "\n",
    "for p in tqdm(result):\n",
    "    ret_rgb = render_img(model, directions, p, chunk_size=4096*8)\n",
    "    img = ret_rgb.view([h, w, 3]).cpu().numpy()\n",
    "    result_img  += [img]"
   ]
  },
  {
   "cell_type": "code",
   "execution_count": 11,
   "metadata": {},
   "outputs": [],
   "source": [
    "target_pil = Image.fromarray(np.uint8(target_img*255))"
   ]
  },
  {
   "cell_type": "code",
   "execution_count": 12,
   "metadata": {},
   "outputs": [
    {
     "data": {
      "text/plain": [
       "<matplotlib.image.AxesImage at 0x7fac46a2c100>"
      ]
     },
     "execution_count": 12,
     "metadata": {},
     "output_type": "execute_result"
    },
    {
     "data": {
      "image/png": "[encoded data removed]",
      "text/plain": [
       "<Figure size 640x480 with 1 Axes>"
      ]
     },
     "metadata": {},
     "output_type": "display_data"
    }
   ],
   "source": [
    "plt.imshow(result_img[2])"
   ]
  },
  {
   "cell_type": "code",
   "execution_count": 13,
   "metadata": {},
   "outputs": [],
   "source": [
    "pil_imgs = save_images_as_gif(result_img, 1000, './result.gif')"
   ]
  },
  {
   "cell_type": "code",
   "execution_count": 14,
   "metadata": {},
   "outputs": [],
   "source": [
    "overlay_list = [overlay_images(target_pil, img, 0.5) for img in pil_imgs]\n",
    "overlay_list[0].save(\"./result_overlay.gif\", save_all=True, append_images=overlay_list[1:], duration=1000, loop=0)"
   ]
  }
 ],
 "metadata": {
  "kernelspec": {
   "display_name": "ao",
   "language": "python",
   "name": "python3"
  },
  "language_info": {
   "codemirror_mode": {
    "name": "ipython",
    "version": 3
   },
   "file_extension": ".py",
   "mimetype": "text/x-python",
   "name": "python",
   "nbconvert_exporter": "python",
   "pygments_lexer": "ipython3",
   "version": "3.8.17"
  },
  "orig_nbformat": 4
 },
 "nbformat": 4,
 "nbformat_minor": 2
}
